{
 "cells": [
  {
   "cell_type": "code",
   "execution_count": 21,
   "id": "edfb0e68",
   "metadata": {},
   "outputs": [
    {
     "ename": "KeyboardInterrupt",
     "evalue": "",
     "output_type": "error",
     "traceback": [
      "\u001b[1;31m---------------------------------------------------------------------------\u001b[0m",
      "\u001b[1;31mKeyboardInterrupt\u001b[0m                         Traceback (most recent call last)",
      "Cell \u001b[1;32mIn[21], line 26\u001b[0m\n\u001b[0;32m     24\u001b[0m tabela\u001b[38;5;241m.\u001b[39mto_json(\u001b[38;5;124m\"\u001b[39m\u001b[38;5;124mcotacoes.json\u001b[39m\u001b[38;5;124m\"\u001b[39m, orient\u001b[38;5;241m=\u001b[39m\u001b[38;5;124m\"\u001b[39m\u001b[38;5;124mrecords\u001b[39m\u001b[38;5;124m\"\u001b[39m, indent\u001b[38;5;241m=\u001b[39m\u001b[38;5;241m4\u001b[39m)\n\u001b[0;32m     25\u001b[0m \u001b[38;5;28mprint\u001b[39m(\u001b[38;5;124mf\u001b[39m\u001b[38;5;124m\"\u001b[39m\u001b[38;5;124mCotação Atualizada. \u001b[39m\u001b[38;5;132;01m{\u001b[39;00mdatetime\u001b[38;5;241m.\u001b[39mnow()\u001b[38;5;132;01m}\u001b[39;00m\u001b[38;5;124m\"\u001b[39m)\n\u001b[1;32m---> 26\u001b[0m time\u001b[38;5;241m.\u001b[39msleep(\u001b[38;5;241m60\u001b[39m)\n",
      "\u001b[1;31mKeyboardInterrupt\u001b[0m: "
     ]
    }
   ],
   "source": [
    "import requests\n",
    "import pandas as pd\n",
    "from datetime import datetime\n",
    "import time\n",
    "\n",
    " while True:\n",
    "    requisicao = requests.get(\"https://economia.awesomeapi.com.br/last/USD-BRL,EUR-BRL,BTC-BRL\")\n",
    "    requisicao_dic = requisicao.json()\n",
    "    \n",
    "    cotacao_dolar = requisicao_dic[\"USDBRL\"][\"bid\"]\n",
    "    cotacao_euro = requisicao_dic[\"EURBRL\"][\"bid\"]\n",
    "    cotacao_btc = requisicao_dic[\"BTCBRL\"][\"bid\"]\n",
    "    \n",
    "    tabela = pd.read_excel(\"Cotações.xlsx\")\n",
    "    tabela.loc[0,'Moeda'] = \"Dólar\"\n",
    "    tabela.loc[1, 'Moeda'] = \"Euro\"\n",
    "    tabela.loc[2, 'Moeda'] = \"BitCoin\"\n",
    "    tabela.loc[0, \"Cotação\"] = float(cotacao_dolar)\n",
    "    tabela.loc[1, \"Cotação\"] = float(cotacao_euro)\n",
    "    tabela.loc[2, \"Cotação\"] = float(cotacao_btc) * 1000\n",
    "    tabela.loc[[0, 1, 2], \"Data Última Atualização\"] = datetime.now()\n",
    "    \n",
    "    tabela.to_excel(\"Cotações.xlsx\", index=False)\n",
    "    #tabela.to_json(\"cotacoes.json\", orient=\"records\", indent=4)\n",
    "    print(f\"Cotação Atualizada. {datetime.now()}\")\n",
    "\n",
    "    time.sleep(60)\n",
    "    \n",
    "    "
   ]
  },
  {
   "cell_type": "code",
   "execution_count": null,
   "id": "77d25c85-6c3a-4d4c-826f-4eae15d47702",
   "metadata": {},
   "outputs": [],
   "source": []
  }
 ],
 "metadata": {
  "kernelspec": {
   "display_name": "Python [conda env:base] *",
   "language": "python",
   "name": "conda-base-py"
  },
  "language_info": {
   "codemirror_mode": {
    "name": "ipython",
    "version": 3
   },
   "file_extension": ".py",
   "mimetype": "text/x-python",
   "name": "python",
   "nbconvert_exporter": "python",
   "pygments_lexer": "ipython3",
   "version": "3.12.7"
  }
 },
 "nbformat": 4,
 "nbformat_minor": 5
}
